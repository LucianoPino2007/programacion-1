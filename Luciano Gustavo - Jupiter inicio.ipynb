{
 "cells": [
  {
   "cell_type": "code",
   "execution_count": 6,
   "metadata": {},
   "outputs": [],
   "source": [
    "nombre = (input(\"ingrese su nombre: \"))\n",
    "edad = (input(\"ingrese su edad: \"))"
   ]
  },
  {
   "cell_type": "code",
   "execution_count": 7,
   "metadata": {},
   "outputs": [
    {
     "name": "stdout",
     "output_type": "stream",
     "text": [
      "<function presentacion at 0x0000025CFE53E5C0>\n"
     ]
    }
   ],
   "source": [
    "def presentacion(a,b):\n",
    "    nombreEdad = \"mi nombre es \" + a +\"y tengo \" + b + \"años\"\n",
    "    return (nombreEdad)\n"
   ]
  }
 ],
 "metadata": {
  "kernelspec": {
   "display_name": "Python 3",
   "language": "python",
   "name": "python3"
  },
  "language_info": {
   "codemirror_mode": {
    "name": "ipython",
    "version": 3
   },
   "file_extension": ".py",
   "mimetype": "text/x-python",
   "name": "python",
   "nbconvert_exporter": "python",
   "pygments_lexer": "ipython3",
   "version": "3.11.1"
  },
  "orig_nbformat": 4,
  "vscode": {
   "interpreter": {
    "hash": "365e1b9c1e4e6ca96f23ece7464c90052383fbb94adb99969243963eacca2919"
   }
  }
 },
 "nbformat": 4,
 "nbformat_minor": 2
}
